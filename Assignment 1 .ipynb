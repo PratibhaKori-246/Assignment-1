{
 "cells": [
  {
   "cell_type": "markdown",
   "id": "c68c1e97-8dee-4885-b371-f0a5804d6a58",
   "metadata": {},
   "source": [
    "# Basic Python Questions "
   ]
  },
  {
   "cell_type": "markdown",
   "id": "41ce6b05-fba3-451b-80d2-06ba3c2623a0",
   "metadata": {},
   "source": [
    "Q1. Explain the key features of python that make it a popular choice programming. "
   ]
  },
  {
   "cell_type": "markdown",
   "id": "2096fc93-865a-4d1b-ac60-fe2db283844d",
   "metadata": {},
   "source": [
    "Python is a dynamic,high-level,free open source programming language. In this we don't need to declare the type of variable because it is dynamically typed language.Also we can see the type of variable it is,if we want to .\n",
    "For example - "
   ]
  },
  {
   "cell_type": "code",
   "execution_count": 1,
   "id": "148c930d-a1c9-43ff-8e8a-9b2966635f94",
   "metadata": {},
   "outputs": [],
   "source": [
    "s = 3.4"
   ]
  },
  {
   "cell_type": "code",
   "execution_count": 2,
   "id": "80c3da32-1ad6-480c-a389-fd0d002ae600",
   "metadata": {},
   "outputs": [
    {
     "data": {
      "text/plain": [
       "3.4"
      ]
     },
     "execution_count": 2,
     "metadata": {},
     "output_type": "execute_result"
    }
   ],
   "source": [
    "s"
   ]
  },
  {
   "cell_type": "code",
   "execution_count": 3,
   "id": "9d626eef-7505-4055-aee3-09c2606f4008",
   "metadata": {},
   "outputs": [],
   "source": [
    "j = \"sofia\""
   ]
  },
  {
   "cell_type": "code",
   "execution_count": 4,
   "id": "aced4c6d-f8b4-4caf-b713-56a3e086da97",
   "metadata": {},
   "outputs": [
    {
     "data": {
      "text/plain": [
       "'sofia'"
      ]
     },
     "execution_count": 4,
     "metadata": {},
     "output_type": "execute_result"
    }
   ],
   "source": [
    "j"
   ]
  },
  {
   "cell_type": "code",
   "execution_count": 5,
   "id": "7f1e67dd-3aa0-4da4-9e8d-091a4a790c91",
   "metadata": {},
   "outputs": [
    {
     "data": {
      "text/plain": [
       "float"
      ]
     },
     "execution_count": 5,
     "metadata": {},
     "output_type": "execute_result"
    }
   ],
   "source": [
    "type(s)"
   ]
  },
  {
   "cell_type": "code",
   "execution_count": 7,
   "id": "168245d1-2bdf-4ed2-9cfd-b346d7ae1a30",
   "metadata": {},
   "outputs": [
    {
     "data": {
      "text/plain": [
       "str"
      ]
     },
     "execution_count": 7,
     "metadata": {},
     "output_type": "execute_result"
    }
   ],
   "source": [
    "type(j)"
   ]
  },
  {
   "cell_type": "code",
   "execution_count": null,
   "id": "80bf7cf7-f60f-42de-b9bb-219847c5658c",
   "metadata": {},
   "outputs": [],
   "source": [
    "#Features of python-"
   ]
  },
  {
   "cell_type": "markdown",
   "id": "3b035693-a90a-4970-b62f-e450cc3a27c4",
   "metadata": {},
   "source": [
    "1.Free and open source - Python language is freely available at the official websites and you can also download it.Since it is an open source i.e available publically."
   ]
  },
  {
   "cell_type": "markdown",
   "id": "008c8587-e669-4365-9ad7-a8f543a7256b",
   "metadata": {},
   "source": [
    "2.Easy to code - it is very easy to learn the language as comapred to other languages like- C++ , java , javascript etc."
   ]
  },
  {
   "cell_type": "markdown",
   "id": "2081e488-fb0f-4eb3-85b2-ce016c6cdebf",
   "metadata": {},
   "source": [
    "3.Indentation - it refers to the space at the beginning of a code line .This makes the code more readable ."
   ]
  },
  {
   "cell_type": "markdown",
   "id": "e91c7825-914d-4073-9aec-350aa4a36fc0",
   "metadata": {},
   "source": [
    "4.Large standard library - it has a large standard library that provides a set of modules ,function like different notebook to perform our code . This enhances its capacities, making it a top choice for web development, data analysis, machine learning and many more."
   ]
  },
  {
   "cell_type": "markdown",
   "id": "cac28d98-e20e-45a1-9d2b-2d8e493d9459",
   "metadata": {},
   "source": [
    "5.Identifying error - we can easily analyse error."
   ]
  },
  {
   "cell_type": "markdown",
   "id": "34d8be75-b18a-4b93-b1f9-1e942fbefada",
   "metadata": {},
   "source": [
    "6.Portable - same code can be used on different machines.There is no need to write same program multiple times for several platforms."
   ]
  },
  {
   "cell_type": "markdown",
   "id": "3d3fa8b3-f5b4-4195-a09d-e6a6f88c1e21",
   "metadata": {},
   "source": [
    "7.Expressive - python need to use only a few lines of code to perform complex tasks.For example"
   ]
  },
  {
   "cell_type": "code",
   "execution_count": 8,
   "id": "99578fa6-ce99-4daf-bbb2-40323ff6b663",
   "metadata": {},
   "outputs": [
    {
     "name": "stdout",
     "output_type": "stream",
     "text": [
      "hey viewers\n"
     ]
    }
   ],
   "source": [
    "print(\"hey viewers\")"
   ]
  },
  {
   "cell_type": "markdown",
   "id": "3742255f-1780-4891-b677-7fcf28031f9f",
   "metadata": {},
   "source": [
    "Q2.Describe the role of predefined keywords in python and provide examples of how they are used in a program ."
   ]
  },
  {
   "cell_type": "markdown",
   "id": "5894426a-bf80-4865-9221-59373f74b959",
   "metadata": {},
   "source": [
    "• A keyword refers to a predefined word that python reserves for working programs that have a specific meaning .You cannot use it anywhere else.\n",
    " \n",
    "•Python has 33 keywords.\n",
    "\n",
    "•Keywords are case-sensitive, except for True, None and False, which must be lowercase. \n",
    "\n",
    "•Keywords cannot be used as identifiers, names for variables, functions, or classes. \n",
    "​"
   ]
  },
  {
   "cell_type": "code",
   "execution_count": 21,
   "id": "40346bd5-1b15-496a-8b0f-cf9dea63377a",
   "metadata": {},
   "outputs": [],
   "source": [
    "#List of Some Predefined Keywords in Python"
   ]
  },
  {
   "cell_type": "code",
   "execution_count": 22,
   "id": "5138f51b-f618-4a19-b13e-ee9f010c8fcb",
   "metadata": {},
   "outputs": [
    {
     "name": "stdout",
     "output_type": "stream",
     "text": [
      "['False', 'None', 'True', 'and', 'as', 'assert', 'async', 'await', 'break', 'class', 'continue', 'def', 'del', 'elif', 'else', 'except', 'finally', 'for', 'from', 'global', 'if', 'import', 'in', 'is', 'lambda', 'nonlocal', 'not', 'or', 'pass', 'raise', 'return', 'try', 'while', 'with', 'yield']\n"
     ]
    }
   ],
   "source": [
    "import keyword\n",
    "print(keyword.kwlist)"
   ]
  },
  {
   "cell_type": "code",
   "execution_count": 23,
   "id": "66d59c3f-c974-4d15-8de6-571949efca84",
   "metadata": {},
   "outputs": [],
   "source": [
    "#Here some of them are explained below with an example :-"
   ]
  },
  {
   "cell_type": "markdown",
   "id": "fc5cfc93-0668-45c3-b8e3-1c94bbcb237a",
   "metadata": {},
   "source": [
    "1.None- NoneType class that is used to define a null variable or an object in Python. Example-"
   ]
  },
  {
   "cell_type": "code",
   "execution_count": 2,
   "id": "356d13d0-4b1f-476f-8a6b-b47f34d4f59a",
   "metadata": {},
   "outputs": [],
   "source": [
    "my_age = None"
   ]
  },
  {
   "cell_type": "code",
   "execution_count": 3,
   "id": "0bac22af-1d14-482a-818a-b3a224deccbe",
   "metadata": {},
   "outputs": [],
   "source": [
    "my_age"
   ]
  },
  {
   "cell_type": "code",
   "execution_count": 4,
   "id": "d62d6260-9e14-4a16-aa82-21113de9a5f9",
   "metadata": {},
   "outputs": [
    {
     "data": {
      "text/plain": [
       "NoneType"
      ]
     },
     "execution_count": 4,
     "metadata": {},
     "output_type": "execute_result"
    }
   ],
   "source": [
    "type(my_age)"
   ]
  },
  {
   "cell_type": "markdown",
   "id": "7a362644-e6da-4c71-9761-b5e29060699c",
   "metadata": {},
   "source": [
    "2.Control Flow Keywords \n",
    "\n",
    "Keywords like if, else, elif, while, for, break, and continue are used to control the flow of execution in your program. Example-"
   ]
  },
  {
   "cell_type": "code",
   "execution_count": 5,
   "id": "bfb35712-ba2a-4732-9395-92d4c52aa226",
   "metadata": {},
   "outputs": [],
   "source": [
    "p = 10"
   ]
  },
  {
   "cell_type": "code",
   "execution_count": 6,
   "id": "fb68f0ed-3be1-4a21-87ad-de9450bb65c7",
   "metadata": {},
   "outputs": [
    {
     "name": "stdout",
     "output_type": "stream",
     "text": [
      "x is greater than s\n"
     ]
    }
   ],
   "source": [
    " if p > 5:\n",
    "    print(\"x is greater than s\")\n",
    " elif p == 5:\n",
    "    print(\"x is equal to 5\")\n",
    " else: \n",
    "    print(\"x is less then 5\")"
   ]
  },
  {
   "cell_type": "markdown",
   "id": "153884c5-6ecc-4bce-ad1e-4bb52d063095",
   "metadata": {},
   "source": [
    "3.Function and Class Definition Keywords\n",
    "\n",
    "def is used to define a function, and class is used to define a class. Example -"
   ]
  },
  {
   "cell_type": "code",
   "execution_count": 11,
   "id": "b727f256-2f19-4cb5-bfae-2cdcb9d52029",
   "metadata": {},
   "outputs": [
    {
     "name": "stdout",
     "output_type": "stream",
     "text": [
      "hey viewers!!\n",
      "welcome back to my channel\n"
     ]
    }
   ],
   "source": [
    "def welcome():\n",
    "    print(\"hey viewers!!\")\n",
    "    print(\"welcome back to my channel\")\n",
    "    \n",
    "welcome()"
   ]
  },
  {
   "cell_type": "code",
   "execution_count": 17,
   "id": "f9626c5f-51fe-494a-a845-03e4428722fa",
   "metadata": {},
   "outputs": [
    {
     "name": "stdout",
     "output_type": "stream",
     "text": [
      "50\n"
     ]
    }
   ],
   "source": [
    "class DemoSession:\n",
    "    a = 2\n",
    "    \n",
    "    def sumvalue(self):\n",
    "        print(20+30)\n",
    "\n",
    "demoobject=DemoSession()        \n",
    "demoobject.sumvalue();"
   ]
  },
  {
   "cell_type": "markdown",
   "id": "0907b35b-4805-4f41-9eb8-9f800a6a148b",
   "metadata": {},
   "source": [
    "4.Lambda and Anonymous Functions\n",
    "\n",
    "lambda is used to create small anonymous functions. Example-"
   ]
  },
  {
   "cell_type": "code",
   "execution_count": 1,
   "id": "4c96293c-0c12-4235-8718-133c3e9eb2f1",
   "metadata": {},
   "outputs": [
    {
     "name": "stdout",
     "output_type": "stream",
     "text": [
      "243\n"
     ]
    }
   ],
   "source": [
    "exp_o = lambda x: x**5\n",
    "print(exp_o(3))"
   ]
  },
  {
   "cell_type": "code",
   "execution_count": 8,
   "id": "2cbf68cf-11e4-44ea-ac8b-a4ac934b73f0",
   "metadata": {},
   "outputs": [
    {
     "name": "stdout",
     "output_type": "stream",
     "text": [
      "34.7\n"
     ]
    }
   ],
   "source": [
    "_add = lambda m, n : m + n\n",
    "print(_add(10 ,24.7))"
   ]
  },
  {
   "cell_type": "markdown",
   "id": "00baf3cb-0fcf-471d-90e8-ad979e5ac75a",
   "metadata": {},
   "source": [
    "5.Variable Scope Keywords-\n",
    "\n",
    "'Global' and 'nonlocal' are used to work with variables in different scopes. Example-"
   ]
  },
  {
   "cell_type": "code",
   "execution_count": 20,
   "id": "d34ef13e-1f32-4cfc-8e1b-bed544ee544f",
   "metadata": {},
   "outputs": [
    {
     "name": "stdout",
     "output_type": "stream",
     "text": [
      "10\n"
     ]
    }
   ],
   "source": [
    "x = 10 #Global variable\n",
    "\n",
    "def my_funt_n():\n",
    "    y = 7.8 # local variable\n",
    "  \n",
    "\n",
    "my_funt_n()   \n",
    "print(x)\n",
    "#print(y) this will cause error as 'y' is a local variable."
   ]
  },
  {
   "cell_type": "markdown",
   "id": "aee58942-a894-4d8f-ae9a-1051fb622bf9",
   "metadata": {},
   "source": [
    "6.Logical Operators in Python"
   ]
  },
  {
   "cell_type": "code",
   "execution_count": null,
   "id": "f135abed-6e67-426c-9dea-bfff8eac176d",
   "metadata": {},
   "outputs": [],
   "source": [
    "#They're of two type:"
   ]
  },
  {
   "cell_type": "markdown",
   "id": "51c9c724-adbd-4be1-a8cb-79e13569f158",
   "metadata": {},
   "source": [
    "➾ 'and' Operator -\n",
    "  The 'and' operator returns True if both conditions on either side are True. If either or both conditions are False, it returns False. Example-\n",
    "   \n"
   ]
  },
  {
   "cell_type": "code",
   "execution_count": 36,
   "id": "5955d2a9-7706-4f23-93da-f684b985c257",
   "metadata": {},
   "outputs": [
    {
     "name": "stdout",
     "output_type": "stream",
     "text": [
      "both conditions are true\n"
     ]
    }
   ],
   "source": [
    "x = 13\n",
    "y = 23.4\n",
    "\n",
    "#both conditions need to be true.\n",
    "if x > 7.8  and y > 21:\n",
    "    print(\"both conditions are true\")\n",
    "else:\n",
    "    print(\"atleast one condition is false\")"
   ]
  },
  {
   "cell_type": "markdown",
   "id": "88ad1a0c-1f9e-465d-9f89-d14f72ab4fac",
   "metadata": {},
   "source": [
    "➾ 'or' operator - The 'or' operator returns True if at least one of the conditions on either side is True. It only returns False if both conditions are False."
   ]
  },
  {
   "cell_type": "code",
   "execution_count": 37,
   "id": "e3adb9d2-b7cb-4f9a-a88a-e353d55bd6df",
   "metadata": {},
   "outputs": [
    {
     "name": "stdout",
     "output_type": "stream",
     "text": [
      "alleast one condition is true.\n"
     ]
    }
   ],
   "source": [
    "p = 56.9\n",
    "q = -40\n",
    "\n",
    "#atleast one condition need o be true.\n",
    "if p < 28 or q > -40.5:\n",
    "    print (\"alleast one condition is true.\")\n",
    "else:\n",
    "    print (\"both the condtions are true.\")\n"
   ]
  },
  {
   "cell_type": "code",
   "execution_count": 39,
   "id": "a311d18b-6987-42b7-9a45-575242596396",
   "metadata": {},
   "outputs": [
    {
     "name": "stdout",
     "output_type": "stream",
     "text": [
      "conditions are not met.\n"
     ]
    }
   ],
   "source": [
    "# if both are used together i.e\n",
    "a = 3\n",
    "b = 10\n",
    "c = 7\n",
    "\n",
    "if (a > 1.5 and c < 4) or b < 6:\n",
    "    print(\"conditions are met\")\n",
    "else:\n",
    "    print(\"conditions are not met.\")\n",
    "#since c < 4 and b < 6 are false."
   ]
  },
  {
   "cell_type": "markdown",
   "id": "34258154-880a-405f-b3a4-0068c6676477",
   "metadata": {},
   "source": [
    "Q3. Compare and contrast mutable and immutable objects in python with examples."
   ]
  },
  {
   "cell_type": "markdown",
   "id": "219d0771-a55d-444b-9220-019d73e41c6e",
   "metadata": {},
   "source": [
    "In Python, objects can be categorized as mutable or immutable based on whether their state or value can be changed after they are created.\n",
    "\n",
    "✦ Immutable Objects \n",
    "\n",
    "Immutable objects are those whose state or value cannot be modified once they are created. Attempting to change an immutable object results in the creation of a new object rather than altering the existing one.\n",
    "\n",
    "Examples of Immutable Objects:- \n",
    "Numbers (e.g., float) , \n",
    "Strings (str)"
   ]
  },
  {
   "cell_type": "code",
   "execution_count": 40,
   "id": "db4ca594-1b57-4068-adc8-d15f48140eec",
   "metadata": {},
   "outputs": [
    {
     "data": {
      "text/plain": [
       "'w'"
      ]
     },
     "execution_count": 40,
     "metadata": {},
     "output_type": "execute_result"
    }
   ],
   "source": [
    "s = \"pwskills\"\n",
    "s[1]"
   ]
  },
  {
   "cell_type": "code",
   "execution_count": 43,
   "id": "78da6c93-0595-47c0-9039-ffe6548bc6e4",
   "metadata": {},
   "outputs": [],
   "source": [
    "s[1] = \"t\"   #this will show error as item assigned is string."
   ]
  },
  {
   "cell_type": "code",
   "execution_count": 51,
   "id": "d93ae01f-d454-4b60-a9f5-cac155136c4c",
   "metadata": {},
   "outputs": [
    {
     "name": "stdout",
     "output_type": "stream",
     "text": [
      "BLACK_BEAUTY\n"
     ]
    }
   ],
   "source": [
    "x = \"BLACK\"\n",
    "\n",
    "x = x + \"_BEAUTY\"\n",
    "print(x)"
   ]
  },
  {
   "cell_type": "markdown",
   "id": "58c5d52a-ec89-4b01-9035-20f5a14c9ff1",
   "metadata": {},
   "source": [
    "✦ Mutable Objects\n",
    "\n",
    "Mutable objects are those whose state or value can be modified after they are created. Changes made to a mutable object affect the original object.\n",
    "\n",
    "Examples of Mutable Objects:- \n",
    "Lists (list) ,\n",
    "Dictionaries (dict) ,\n",
    "Sets (set) "
   ]
  },
  {
   "cell_type": "code",
   "execution_count": 66,
   "id": "84aecc84-4f74-4733-a286-d6b212a7164e",
   "metadata": {},
   "outputs": [
    {
     "name": "stdout",
     "output_type": "stream",
     "text": [
      "[2.59, True, 'Muskan', 100, 66.03, 'SHINCHAn']\n"
     ]
    }
   ],
   "source": [
    "list_cont = [ 2.59 , True , 'Muskan', 100 , 66.03 , 3 +7j ]\n",
    "\n",
    "list_cont[5] = 'SHINCHAn'\n",
    "print(list_cont)"
   ]
  },
  {
   "cell_type": "code",
   "execution_count": 54,
   "id": "d0f24c80-4302-49b2-a206-bfb1ad32436f",
   "metadata": {},
   "outputs": [
    {
     "data": {
      "text/plain": [
       "'Muskan'"
      ]
     },
     "execution_count": 54,
     "metadata": {},
     "output_type": "execute_result"
    }
   ],
   "source": [
    "list_cont[2]"
   ]
  },
  {
   "cell_type": "code",
   "execution_count": 55,
   "id": "28de2a9a-ae71-42f6-a208-f7eb4a6d81dc",
   "metadata": {},
   "outputs": [
    {
     "data": {
      "text/plain": [
       "list"
      ]
     },
     "execution_count": 55,
     "metadata": {},
     "output_type": "execute_result"
    }
   ],
   "source": [
    "type(list_cont)"
   ]
  },
  {
   "cell_type": "code",
   "execution_count": 67,
   "id": "a588cfeb-ba73-49e9-978f-02d71270632a",
   "metadata": {},
   "outputs": [
    {
     "name": "stdout",
     "output_type": "stream",
     "text": [
      "[48, True, 'Muskan', 100, 66.03, 'SHINCHAn']\n"
     ]
    }
   ],
   "source": [
    "list_cont[0] = 48\n",
    "print(list_cont)"
   ]
  },
  {
   "cell_type": "markdown",
   "id": "0c42db14-d772-4881-bed7-62c37d787915",
   "metadata": {},
   "source": [
    "Comparison\n",
    "\n",
    "1. Modification:\n",
    "\n",
    "• Immutable Objects: Cannot be changed after creation. Any modification results in a new object.\n",
    "\n",
    "•Mutable Objects: Can be changed in place. Modifications affect the existing object.\n",
    "\n",
    "2. Memory Usage:\n",
    "\n",
    "• Immutable Objects: Often optimized for performance, since their state does not change. Python may reuse existing immutable objects to save memory.\n",
    "\n",
    "•Mutable Objects: May consume more memory if modifications create new objects or lead to additional data structures.\n",
    "\n",
    "3. Hashability:\n",
    "\n",
    "• Immutable Objects: Generally hashable and can be used as keys in dictionaries or elements in sets because their value does not change.\n",
    "\n",
    "• Mutable Objects: Generally not hashable and cannot be used as dictionary keys or set elements because their value can change."
   ]
  },
  {
   "cell_type": "markdown",
   "id": "56aa8135-e397-4306-b108-cfef448412a7",
   "metadata": {},
   "source": [
    "Q4. Discuss the different types of operators in python and provide examples of how they are used."
   ]
  },
  {
   "cell_type": "markdown",
   "id": "72d89783-9563-40e6-81b1-3ae8582a172e",
   "metadata": {},
   "source": [
    "In Python, operators are special symbols or keywords that perform operations on values or variables. Python provides a variety of operators, each serving a different purpose. Different types of operators are :-\n",
    "1. Arithmetic Operators\n",
    "2. Comparison Operators\n",
    "3. Logical Operators\n",
    "4. Assignment Operators\n",
    "5. Bitwise Operators\n",
    "6. Membership Operators\n",
    "7. Identity Operators"
   ]
  },
  {
   "cell_type": "markdown",
   "id": "2af90abc-0969-47ad-8566-f133462df702",
   "metadata": {},
   "source": [
    "🔸Arithmetic Operators - \n",
    "These operators are used to perform basic arithmetic operations."
   ]
  },
  {
   "cell_type": "code",
   "execution_count": 70,
   "id": "7738635c-5c43-4a4e-8fcc-fe0448a69d98",
   "metadata": {},
   "outputs": [
    {
     "name": "stdout",
     "output_type": "stream",
     "text": [
      "51.7913\n"
     ]
    }
   ],
   "source": [
    "d = 0.0113\n",
    "e = 51.78\n",
    "print(d + e) #'+'addition operator"
   ]
  },
  {
   "cell_type": "code",
   "execution_count": 73,
   "id": "25f7bf63-453a-4992-acc5-870ab7e96539",
   "metadata": {},
   "outputs": [
    {
     "name": "stdout",
     "output_type": "stream",
     "text": [
      "23.52\n"
     ]
    }
   ],
   "source": [
    "p = 12\n",
    "q = 01.96\n",
    "print(p * q) #'*'multiplication operator"
   ]
  },
  {
   "cell_type": "code",
   "execution_count": 79,
   "id": "b687cd05-748c-4f0b-8074-0f5f7b053f34",
   "metadata": {},
   "outputs": [
    {
     "name": "stdout",
     "output_type": "stream",
     "text": [
      "3\n"
     ]
    }
   ],
   "source": [
    "x = 17\n",
    "y = 5\n",
    "print(17 // 5) #'//'floor division operator(show quotient)"
   ]
  },
  {
   "cell_type": "code",
   "execution_count": 81,
   "id": "4d74021d-fd2b-4529-b1a8-b0d6c5e3a8b7",
   "metadata": {},
   "outputs": [
    {
     "name": "stdout",
     "output_type": "stream",
     "text": [
      "4\n"
     ]
    }
   ],
   "source": [
    "a = 100\n",
    "b = 16\n",
    "print(a % b) #'%'modulus operator (returns the remainder of the division)"
   ]
  },
  {
   "cell_type": "code",
   "execution_count": 83,
   "id": "ad2bb19d-08aa-404f-989f-51ce287df994",
   "metadata": {},
   "outputs": [
    {
     "name": "stdout",
     "output_type": "stream",
     "text": [
      "343\n"
     ]
    }
   ],
   "source": [
    "s = 7\n",
    "t = 3\n",
    "print(s**t) #'**'exponential (first operand to the power to the second)"
   ]
  },
  {
   "cell_type": "markdown",
   "id": "111334be-a9be-4a0b-833f-f75350ad4adc",
   "metadata": {},
   "source": [
    "🔸Comparison Operators - These operators are used to compare two values."
   ]
  },
  {
   "cell_type": "code",
   "execution_count": 86,
   "id": "76afd214-e918-44e2-83e2-607829e9907d",
   "metadata": {},
   "outputs": [
    {
     "name": "stdout",
     "output_type": "stream",
     "text": [
      "False\n"
     ]
    }
   ],
   "source": [
    "b = 58\n",
    "c = 30\n",
    "print(b == c) #equal to(==)"
   ]
  },
  {
   "cell_type": "code",
   "execution_count": 88,
   "id": "2a8b4711-36bb-4d46-91a1-1d4984691017",
   "metadata": {},
   "outputs": [
    {
     "name": "stdout",
     "output_type": "stream",
     "text": [
      "True\n"
     ]
    }
   ],
   "source": [
    "m = 17\n",
    "n = 8\n",
    "print(m != n) #not equal('!=')"
   ]
  },
  {
   "cell_type": "code",
   "execution_count": 90,
   "id": "d6f234da-308d-43e4-88a3-880515b5785e",
   "metadata": {},
   "outputs": [
    {
     "name": "stdout",
     "output_type": "stream",
     "text": [
      "True\n"
     ]
    }
   ],
   "source": [
    "p = 42\n",
    "q = 6.67\n",
    "print(p >= q) #greater than or equal to( >=)"
   ]
  },
  {
   "cell_type": "code",
   "execution_count": 92,
   "id": "081a1772-9c91-48f6-88b1-f24d00923ccf",
   "metadata": {},
   "outputs": [
    {
     "name": "stdout",
     "output_type": "stream",
     "text": [
      "True\n"
     ]
    }
   ],
   "source": [
    "e = 10\n",
    "f = 15.7\n",
    "print(e <= f) #less than or equal to(<=)"
   ]
  },
  {
   "cell_type": "markdown",
   "id": "362fca50-2aba-46c1-a2af-46e0ee5c7254",
   "metadata": {},
   "source": [
    "🔸Logical Operators - These operators are used to combine conditional statements."
   ]
  },
  {
   "cell_type": "code",
   "execution_count": 94,
   "id": "c3a92607-6e7f-4e5e-8aaa-3cea53029bb0",
   "metadata": {},
   "outputs": [
    {
     "name": "stdout",
     "output_type": "stream",
     "text": [
      "True\n"
     ]
    }
   ],
   "source": [
    "y = 6.7\n",
    "z = 12\n",
    "print(y > 6 and z < 49) #'and' operator"
   ]
  },
  {
   "cell_type": "code",
   "execution_count": 95,
   "id": "ba6e56f0-acef-476f-aa89-b5af47a53f68",
   "metadata": {},
   "outputs": [
    {
     "name": "stdout",
     "output_type": "stream",
     "text": [
      "False\n"
     ]
    }
   ],
   "source": [
    "a = 11\n",
    "b = 53\n",
    "print(a < 6.7 or b > 60) #'or' operator"
   ]
  },
  {
   "cell_type": "markdown",
   "id": "cb994661-1b88-4437-bc81-6b95a59a0871",
   "metadata": {},
   "source": [
    "🔸Assignment Operators - These operators are used to assign values to variables."
   ]
  },
  {
   "cell_type": "code",
   "execution_count": 97,
   "id": "5a855564-c8de-484d-b5cb-a01ddab8d2d1",
   "metadata": {},
   "outputs": [
    {
     "name": "stdout",
     "output_type": "stream",
     "text": [
      "10.450000000000001\n"
     ]
    }
   ],
   "source": [
    "r = 8.9\n",
    "r += 1.55\n",
    "print(r) #(+=): Adds the right operand to the left operand and assigns the result to the left operand."
   ]
  },
  {
   "cell_type": "code",
   "execution_count": 98,
   "id": "1509740d-b882-474a-9315-38190b920599",
   "metadata": {},
   "outputs": [
    {
     "name": "stdout",
     "output_type": "stream",
     "text": [
      "4.09\n"
     ]
    }
   ],
   "source": [
    "x = 8.09\n",
    "x -= 4\n",
    "print(x)  # (-=): Subtracts the right operand from the left operand and assigns the result to the left operand."
   ]
  },
  {
   "cell_type": "code",
   "execution_count": 99,
   "id": "3088db07-0527-4eb4-9e6c-ed24da24c68e",
   "metadata": {},
   "outputs": [
    {
     "name": "stdout",
     "output_type": "stream",
     "text": [
      "30.32\n"
     ]
    }
   ],
   "source": [
    "a = 3.79\n",
    "a *= 8\n",
    "print(a)  # (*=): Multiplies the left operand by the right operand and assigns the result to the left operand."
   ]
  },
  {
   "cell_type": "code",
   "execution_count": 100,
   "id": "17965a83-c78d-42bc-a10f-455684427f67",
   "metadata": {},
   "outputs": [
    {
     "name": "stdout",
     "output_type": "stream",
     "text": [
      "4\n"
     ]
    }
   ],
   "source": [
    "c = 19\n",
    "c %= 5\n",
    "print(c)  # (%=): Applies the modulus operator and assigns the result to the left operand."
   ]
  },
  {
   "cell_type": "markdown",
   "id": "bbd2ac9c-2a75-402c-9470-f6b82d921603",
   "metadata": {},
   "source": [
    "🔸Bitwise Operators - These operators perform bit-level operations."
   ]
  },
  {
   "cell_type": "code",
   "execution_count": 3,
   "id": "0f71ab0c-af79-4f59-bc13-d03b8b1708b1",
   "metadata": {},
   "outputs": [
    {
     "name": "stdout",
     "output_type": "stream",
     "text": [
      "2\n"
     ]
    }
   ],
   "source": [
    "#'and'() operator\n",
    "a = 18 & 7\n",
    "print(a)"
   ]
  },
  {
   "cell_type": "code",
   "execution_count": 4,
   "id": "1528d6ad-31cc-4880-817d-c25b40ecde99",
   "metadata": {},
   "outputs": [
    {
     "name": "stdout",
     "output_type": "stream",
     "text": [
      "15\n"
     ]
    }
   ],
   "source": [
    "u = 15 & 15\n",
    "print(u)"
   ]
  },
  {
   "cell_type": "code",
   "execution_count": 5,
   "id": "e3033f73-8976-40f9-a4c6-2e6f8ffab090",
   "metadata": {},
   "outputs": [
    {
     "name": "stdout",
     "output_type": "stream",
     "text": [
      "6\n"
     ]
    }
   ],
   "source": [
    "e = -9 & 6\n",
    "print(e)"
   ]
  },
  {
   "cell_type": "code",
   "execution_count": 6,
   "id": "4e3e68f6-7b68-4137-9f38-b83451ee69b1",
   "metadata": {},
   "outputs": [
    {
     "name": "stdout",
     "output_type": "stream",
     "text": [
      "-7\n"
     ]
    }
   ],
   "source": [
    "f = -5 & -3\n",
    "print(f)"
   ]
  },
  {
   "cell_type": "code",
   "execution_count": 8,
   "id": "d483b70f-64c2-48ea-86cc-3f591e7f17f6",
   "metadata": {},
   "outputs": [
    {
     "name": "stdout",
     "output_type": "stream",
     "text": [
      "7\n"
     ]
    }
   ],
   "source": [
    "#'or'(|)operator\n",
    "b = 7 | 5\n",
    "print(b)"
   ]
  },
  {
   "cell_type": "code",
   "execution_count": 2,
   "id": "9ab97dc2-44d3-4422-9f6a-08c874a9d724",
   "metadata": {},
   "outputs": [
    {
     "name": "stdout",
     "output_type": "stream",
     "text": [
      "5\n"
     ]
    }
   ],
   "source": [
    "a = 5 | 5\n",
    "print(a)"
   ]
  },
  {
   "cell_type": "code",
   "execution_count": 3,
   "id": "c592b1d7-d263-47f6-b705-f4e50fcdf989",
   "metadata": {},
   "outputs": [
    {
     "name": "stdout",
     "output_type": "stream",
     "text": [
      "-6\n"
     ]
    }
   ],
   "source": [
    "#'~'(not) operator - this convert the value into negative value by finding its 1's complement.\n",
    "g = ~5\n",
    "print(g)\n"
   ]
  },
  {
   "cell_type": "code",
   "execution_count": 5,
   "id": "b89a492c-278b-43c4-86c0-61afed95b135",
   "metadata": {},
   "outputs": [
    {
     "name": "stdout",
     "output_type": "stream",
     "text": [
      "8\n"
     ]
    }
   ],
   "source": [
    "s = ~(-9)\n",
    "print(s)"
   ]
  },
  {
   "cell_type": "code",
   "execution_count": 6,
   "id": "ebf9c540-9cc4-4809-ad91-b108b8c17aa7",
   "metadata": {},
   "outputs": [
    {
     "name": "stdout",
     "output_type": "stream",
     "text": [
      "6\n"
     ]
    }
   ],
   "source": [
    "#'^'(XOR) operator\n",
    "p = 5^3\n",
    "print(p)"
   ]
  },
  {
   "cell_type": "code",
   "execution_count": 7,
   "id": "2c1e0673-4eb0-4a8c-9813-ec04750a808e",
   "metadata": {},
   "outputs": [
    {
     "name": "stdout",
     "output_type": "stream",
     "text": [
      "0\n"
     ]
    }
   ],
   "source": [
    "q = 8^8\n",
    "print(q)"
   ]
  },
  {
   "cell_type": "code",
   "execution_count": 10,
   "id": "0252320c-4358-4ab2-a348-3af6e134cd58",
   "metadata": {},
   "outputs": [],
   "source": [
    "#Shift operator\n",
    "#1. Left shift operator (<<)\n",
    "#2. Right shift operator (>>)"
   ]
  },
  {
   "cell_type": "code",
   "execution_count": 14,
   "id": "bd817f1d-c5ff-4cec-b638-69f0d05f195f",
   "metadata": {},
   "outputs": [
    {
     "name": "stdout",
     "output_type": "stream",
     "text": [
      "544\n"
     ]
    }
   ],
   "source": [
    "# (<<) left shift operator - shifts the bits to the left.\n",
    "a = 34 << 4\n",
    "print(a)"
   ]
  },
  {
   "cell_type": "code",
   "execution_count": 13,
   "id": "fd277cfd-8749-48ed-b256-d01916f60dbf",
   "metadata": {},
   "outputs": [
    {
     "name": "stdout",
     "output_type": "stream",
     "text": [
      "40\n"
     ]
    }
   ],
   "source": [
    "z = 5 << 3\n",
    "print(z)"
   ]
  },
  {
   "cell_type": "code",
   "execution_count": 16,
   "id": "c8d8f331-3350-4cbf-a222-073179f6f297",
   "metadata": {},
   "outputs": [
    {
     "name": "stdout",
     "output_type": "stream",
     "text": [
      "1\n"
     ]
    }
   ],
   "source": [
    "# (>>) Right shift operator - shifts the bits to  the right.\n",
    "x = 13 >> 3\n",
    "print(x)"
   ]
  },
  {
   "cell_type": "code",
   "execution_count": 19,
   "id": "f337d345-f138-41cb-ae62-d4580cb804ab",
   "metadata": {},
   "outputs": [
    {
     "name": "stdout",
     "output_type": "stream",
     "text": [
      "3\n"
     ]
    }
   ],
   "source": [
    "k = 24 >> 3\n",
    "print(k)"
   ]
  },
  {
   "cell_type": "markdown",
   "id": "6bf9245c-b56c-4b92-acbb-b2b4a2f8b788",
   "metadata": {},
   "source": [
    "🔸Assignment operator -it is used to assign values to variable."
   ]
  },
  {
   "cell_type": "code",
   "execution_count": 21,
   "id": "57037167-8cd1-4899-8858-b6bf7859ddd5",
   "metadata": {},
   "outputs": [],
   "source": [
    "#operators -\n",
    "# =     assignment operator\n",
    "# +=    addition assignment operator\n",
    "# -=    subtraction assignment operator\n",
    "# *=    multiplication assignment operator\n",
    "# /=    division assignment operator\n",
    "# %=    remainder assignment operator\n",
    "# **=   exponential assignment operator"
   ]
  },
  {
   "cell_type": "code",
   "execution_count": 22,
   "id": "d443dac1-ee33-4a97-a23a-57433eb97341",
   "metadata": {},
   "outputs": [
    {
     "name": "stdout",
     "output_type": "stream",
     "text": [
      "-14\n"
     ]
    }
   ],
   "source": [
    "a = -6\n",
    "a -= 8\n",
    "print(a)"
   ]
  },
  {
   "cell_type": "code",
   "execution_count": 23,
   "id": "bbe293b6-c75f-4131-95c5-439ad419d51d",
   "metadata": {},
   "outputs": [
    {
     "name": "stdout",
     "output_type": "stream",
     "text": [
      "11.425\n"
     ]
    }
   ],
   "source": [
    "b = 45.7\n",
    "b /= 4\n",
    "print(b)"
   ]
  },
  {
   "cell_type": "code",
   "execution_count": 24,
   "id": "ebe6e8d0-f838-44f2-80b2-ef3abb331421",
   "metadata": {},
   "outputs": [
    {
     "name": "stdout",
     "output_type": "stream",
     "text": [
      "2.000000000000007\n"
     ]
    }
   ],
   "source": [
    "k = 154\n",
    "k %= 7.6\n",
    "print(k)"
   ]
  },
  {
   "cell_type": "code",
   "execution_count": 25,
   "id": "5f8bdf9b-2a6e-4216-b6e4-7170c70bc442",
   "metadata": {},
   "outputs": [
    {
     "name": "stdout",
     "output_type": "stream",
     "text": [
      "343\n"
     ]
    }
   ],
   "source": [
    "s = 7\n",
    "s **= 3\n",
    "print(s)"
   ]
  },
  {
   "cell_type": "markdown",
   "id": "b1496e68-4855-4642-88d0-c391f46f081a",
   "metadata": {},
   "source": [
    "🔸Membership Operator - detect  whether input exist in the given location  or not by using in / not in."
   ]
  },
  {
   "cell_type": "code",
   "execution_count": 27,
   "id": "d5367662-8a49-4b0c-83b5-83bffe9349f2",
   "metadata": {},
   "outputs": [
    {
     "name": "stdout",
     "output_type": "stream",
     "text": [
      "False\n"
     ]
    }
   ],
   "source": [
    "string_1 = \"keep it up\"\n",
    "print('z' in string_1)"
   ]
  },
  {
   "cell_type": "code",
   "execution_count": 39,
   "id": "6dab39d3-464d-4217-b5d0-8ad9d248e4b6",
   "metadata": {},
   "outputs": [
    {
     "name": "stdout",
     "output_type": "stream",
     "text": [
      "True\n"
     ]
    }
   ],
   "source": [
    "lis_t = [156 , 'oh_ha_ni', 56.7 , 3.77]\n",
    "print('46' not in lis_t)"
   ]
  },
  {
   "cell_type": "markdown",
   "id": "8036051a-201b-45b4-96f3-d251d02478ae",
   "metadata": {},
   "source": [
    "🔸Identity Operator - this operator is used to check whether two objects are of same type or not and they share memory location or not.It always return \"True or False\" as output."
   ]
  },
  {
   "cell_type": "code",
   "execution_count": 41,
   "id": "d909f2ff-c226-49d5-8455-9947e382c9bb",
   "metadata": {},
   "outputs": [
    {
     "name": "stdout",
     "output_type": "stream",
     "text": [
      "False\n"
     ]
    }
   ],
   "source": [
    "x = 12\n",
    "y = 33\n",
    "print(x is y)"
   ]
  },
  {
   "cell_type": "code",
   "execution_count": 42,
   "id": "12e3f5cd-ed31-4f28-8849-24ad6183888e",
   "metadata": {},
   "outputs": [
    {
     "name": "stdout",
     "output_type": "stream",
     "text": [
      "True\n",
      "False\n"
     ]
    }
   ],
   "source": [
    "a = 15.8\n",
    "b = 79\n",
    "c = a\n",
    "print(c is a)\n",
    "print(a is b)"
   ]
  },
  {
   "cell_type": "markdown",
   "id": "022363e3-4e69-4978-b1d7-964527df2cf6",
   "metadata": {},
   "source": [
    "Q5. Explain the concept of type casting in python with example."
   ]
  },
  {
   "cell_type": "markdown",
   "id": "b78d5c2c-2824-470b-95a7-3509c6c1e936",
   "metadata": {},
   "source": [
    "Type casting in Python is the process of converting one data type into another. Python supports several built-in functions to perform type casting, allowing you to convert values between different data types as needed.\n",
    "\n",
    "Here are some common type casting functions in Python:\n",
    "\n",
    "1. int(): Converts a value to an integer.\n",
    "\n",
    "2. float(): Converts a value to a float.\n",
    "\n",
    "3. str(): Converts a value to a string.\n",
    "\n",
    "4. bool(): Converts a value to a boolean."
   ]
  },
  {
   "cell_type": "code",
   "execution_count": null,
   "id": "32edb31c-ce40-4893-aa34-d76703fda0b7",
   "metadata": {},
   "outputs": [],
   "source": [
    "#convert sstring into integer\n",
    "a = 'paris'\n",
    "b = int(a)\n",
    "print(b) # this will show an error as string(characters) cannot be changed."
   ]
  },
  {
   "cell_type": "code",
   "execution_count": 20,
   "id": "b6ff5e7b-d603-4010-901a-84c7608876e6",
   "metadata": {},
   "outputs": [
    {
     "name": "stdout",
     "output_type": "stream",
     "text": [
      "8\n"
     ]
    }
   ],
   "source": [
    "p = '8'\n",
    "q = int(p)\n",
    "print(q) #here string isn't containing characters."
   ]
  },
  {
   "cell_type": "code",
   "execution_count": 15,
   "id": "4fc55dc3-c007-45e0-82c8-2ec2e910559d",
   "metadata": {},
   "outputs": [
    {
     "name": "stdout",
     "output_type": "stream",
     "text": [
      "4.0\n"
     ]
    }
   ],
   "source": [
    "#convert integer into float\n",
    "k = 4\n",
    "p = float(k)\n",
    "print(p)"
   ]
  },
  {
   "cell_type": "code",
   "execution_count": 14,
   "id": "8cd370bf-34de-428c-ba6b-a616fdeff8cf",
   "metadata": {},
   "outputs": [
    {
     "name": "stdout",
     "output_type": "stream",
     "text": [
      "True\n"
     ]
    }
   ],
   "source": [
    "#convert float into boolean\n",
    "e = 6.5\n",
    "f = bool(e)\n",
    "print(f)"
   ]
  },
  {
   "cell_type": "code",
   "execution_count": 21,
   "id": "c92bf638-155d-4e29-94c1-219f232d2cac",
   "metadata": {},
   "outputs": [
    {
     "name": "stdout",
     "output_type": "stream",
     "text": [
      "True\n"
     ]
    }
   ],
   "source": [
    "u = 6.9\n",
    "v = bool(u)\n",
    "print(v)"
   ]
  },
  {
   "cell_type": "code",
   "execution_count": 22,
   "id": "3695c45b-f23a-4c21-b9bc-bc7dfc5824f6",
   "metadata": {},
   "outputs": [
    {
     "name": "stdout",
     "output_type": "stream",
     "text": [
      "1\n"
     ]
    }
   ],
   "source": [
    "#convert boolean into integer\n",
    "x = 1\n",
    "y = int(x)\n",
    "print(y)"
   ]
  },
  {
   "cell_type": "code",
   "execution_count": 24,
   "id": "b0e515cd-9531-4bcd-87ef-c21366ec00ad",
   "metadata": {},
   "outputs": [
    {
     "name": "stdout",
     "output_type": "stream",
     "text": [
      "0\n"
     ]
    }
   ],
   "source": [
    "a = 0 \n",
    "b = int(a)\n",
    "print(b)"
   ]
  },
  {
   "cell_type": "code",
   "execution_count": 27,
   "id": "31b582bf-ac38-4bfb-b157-b3b06b3e9bf0",
   "metadata": {},
   "outputs": [
    {
     "name": "stdout",
     "output_type": "stream",
     "text": [
      "1.0\n"
     ]
    }
   ],
   "source": [
    "#convert boolwan into float\n",
    "s = 1\n",
    "t =  float(s)\n",
    "print(t)"
   ]
  },
  {
   "cell_type": "code",
   "execution_count": 28,
   "id": "68b77c20-98a6-44a3-a352-6d6114a376fd",
   "metadata": {},
   "outputs": [
    {
     "name": "stdout",
     "output_type": "stream",
     "text": [
      "0\n"
     ]
    }
   ],
   "source": [
    "#convert boolean into string\n",
    "a = 0\n",
    "b = str(a)\n",
    "print(b)"
   ]
  },
  {
   "cell_type": "markdown",
   "id": "6ade7a42-cace-4c0c-8ea7-645e7263e707",
   "metadata": {},
   "source": [
    "Type casting in Python can be categorized into several types based on the conversion direction between data types. Here’s a detailed explanation with examples:\n",
    "\n",
    "1. Implicit Type Casting (Automatic Type Conversion) -\n",
    "\n",
    "Implicit type casting, or automatic type conversion, occurs when Python automatically converts one data type to another during an operation. This typically happens when mixing types in an expression. Examplle -"
   ]
  },
  {
   "cell_type": "code",
   "execution_count": 30,
   "id": "201afa24-de3c-4f73-b67d-295f2b1cd388",
   "metadata": {},
   "outputs": [
    {
     "data": {
      "text/plain": [
       "int"
      ]
     },
     "execution_count": 30,
     "metadata": {},
     "output_type": "execute_result"
    }
   ],
   "source": [
    "a =7\n",
    "type(a)"
   ]
  },
  {
   "cell_type": "code",
   "execution_count": 33,
   "id": "26e95167-62ee-48ba-b70f-a33788211017",
   "metadata": {},
   "outputs": [
    {
     "data": {
      "text/plain": [
       "8.5"
      ]
     },
     "execution_count": 33,
     "metadata": {},
     "output_type": "execute_result"
    }
   ],
   "source": [
    "x = 8 #integer\n",
    "y = 0.5 # float \n",
    "x + y #here in output implicity  converted to a float to match the type of y"
   ]
  },
  {
   "cell_type": "markdown",
   "id": "008e2dea-4a26-416f-91f8-8a71579cde3e",
   "metadata": {},
   "source": [
    "2. Explicit Type Casting (Manual Type Conversion)\n",
    "\n",
    "Explicit type casting involves manually converting a value from one type to another using built-in functions like int(), float(), str(), and bool(). This is done when you need to enforce a specific type for a value.Example-\n"
   ]
  },
  {
   "cell_type": "code",
   "execution_count": 34,
   "id": "3c599d3f-6072-4955-87c7-3a12f20c8bdf",
   "metadata": {},
   "outputs": [
    {
     "name": "stdout",
     "output_type": "stream",
     "text": [
      "9\n"
     ]
    }
   ],
   "source": [
    "a  = 9.45\n",
    "b = int(a)\n",
    "print(b)"
   ]
  },
  {
   "cell_type": "code",
   "execution_count": 36,
   "id": "0f647498-e13d-4661-91ea-d92fab335081",
   "metadata": {},
   "outputs": [
    {
     "name": "stdout",
     "output_type": "stream",
     "text": [
      "321\n"
     ]
    }
   ],
   "source": [
    "x = \"321\"\n",
    "y = int(x)\n",
    "print(y)"
   ]
  },
  {
   "cell_type": "code",
   "execution_count": 40,
   "id": "e75c4288-34f6-4d27-b7a5-9566a9c530ca",
   "metadata": {},
   "outputs": [
    {
     "name": "stdout",
     "output_type": "stream",
     "text": [
      "78.0\n"
     ]
    }
   ],
   "source": [
    "b = '78'\n",
    "c = float(b)\n",
    "print(c)"
   ]
  },
  {
   "cell_type": "markdown",
   "id": "683cf674-da25-43f3-8f48-c2a8fe8d18c4",
   "metadata": {},
   "source": [
    "Q6.How do conditional statements work in python? Illustrate with example."
   ]
  },
  {
   "cell_type": "markdown",
   "id": "a6a798b8-41ae-4bf4-baa5-a7c243af9e6b",
   "metadata": {},
   "source": [
    "Conditional statements in Python allow you to execute different blocks of code based on certain conditions.\n",
    "\n",
    "Python provides several conditional statements:\n",
    "\n",
    "1. if Statement\n",
    "2. if-else Statement\n",
    "3. if-elif-else Statement"
   ]
  },
  {
   "cell_type": "code",
   "execution_count": 48,
   "id": "ba3d74f0-a1d5-4ac2-b694-7a3ab69b5ef4",
   "metadata": {},
   "outputs": [],
   "source": [
    "#if condition - to execute code if condition ned to be true.\n",
    "a = 10\n",
    "b = 20\n",
    "if b < a:\n",
    "    print (\"A is greater than B\") #here as the if condition is false ,that's why result is not shown."
   ]
  },
  {
   "cell_type": "code",
   "execution_count": 50,
   "id": "ab346d33-cd98-40aa-ad32-9188f1ba9509",
   "metadata": {},
   "outputs": [
    {
     "name": "stdout",
     "output_type": "stream",
     "text": [
      "B is lesser than A\n"
     ]
    }
   ],
   "source": [
    "a = 40.5\n",
    "b = 23.9\n",
    "if a > b:\n",
    "    print('B is lesser than A') #Here the result is true, that's why it showed result. "
   ]
  },
  {
   "cell_type": "code",
   "execution_count": 53,
   "id": "c5498f7d-8a37-4e66-9b2b-1d7aec14ec12",
   "metadata": {},
   "outputs": [
    {
     "name": "stdout",
     "output_type": "stream",
     "text": [
      "you are an adult\n"
     ]
    }
   ],
   "source": [
    "# if-else condition\n",
    "age = 24\n",
    "if age >= 18:\n",
    "    print('you are an adult')\n",
    "else:\n",
    "    print(\"you're a minor\" )    "
   ]
  },
  {
   "cell_type": "code",
   "execution_count": 65,
   "id": "117b9835-dfe4-41e4-8070-b93db17515aa",
   "metadata": {},
   "outputs": [
    {
     "name": "stdout",
     "output_type": "stream",
     "text": [
      "y and x are equal\n"
     ]
    }
   ],
   "source": [
    "x = 5.0\n",
    "y = 9\n",
    "if y > x:\n",
    "    print('y and x are equal')\n",
    "else:\n",
    "    print('y is greater than x')"
   ]
  },
  {
   "cell_type": "code",
   "execution_count": 67,
   "id": "9acf73b5-b032-4c41-bd3c-529e7f659f9e",
   "metadata": {},
   "outputs": [
    {
     "name": "stdout",
     "output_type": "stream",
     "text": [
      "b is greater than c\n"
     ]
    }
   ],
   "source": [
    "# if-elif-else condition\n",
    "a = 39\n",
    "b = 22\n",
    "c = 10\n",
    "if (a > b) ^ (a > c):\n",
    "    print('a is greater than b')\n",
    "elif (b  > a) ^ (b > c):\n",
    "    print(\"b is greater than c\")\n",
    "else:\n",
    "    print('c is the greatest')"
   ]
  },
  {
   "cell_type": "code",
   "execution_count": 71,
   "id": "c2b29f89-4831-4b1b-8ebd-5bb263a6b137",
   "metadata": {},
   "outputs": [
    {
     "name": "stdout",
     "output_type": "stream",
     "text": [
      "it's hot!!!\n"
     ]
    }
   ],
   "source": [
    "temp_ = 35\n",
    "if temp_ < 5:\n",
    "    print(\"it's freezing outside\")\n",
    "elif 0 <= temp_ <= 22:\n",
    "    print(\"it's cold\")\n",
    "elif 22 <= temp_ <= 37:\n",
    "    print(\"it's hot!!!\")     \n",
    "else:\n",
    "    print(\"it's extremely hot\")      "
   ]
  },
  {
   "cell_type": "markdown",
   "id": "a30854db-36ae-4cf7-bf84-f11b50234e0b",
   "metadata": {},
   "source": [
    "Q7. Describe the different types of loops in python and their use cases with example ."
   ]
  },
  {
   "cell_type": "markdown",
   "id": "2cb239cb-6bcf-4e1c-9302-3c65386ed2b0",
   "metadata": {},
   "source": [
    "In Python, loops are used to execute a block of code repeatedly. There are three primary types of loops: for loops, while loops, and nested loops. \n",
    "\n",
    "1.while Loop\n",
    "\n",
    "\n",
    "The while loop is used to execute a block of code as long as a specified condition is true.Example - "
   ]
  },
  {
   "cell_type": "code",
   "execution_count": 21,
   "id": "37be64df-1309-4a8b-b39a-80a9fb65dc53",
   "metadata": {},
   "outputs": [
    {
     "name": "stdout",
     "output_type": "stream",
     "text": [
      "great job\n",
      "loop has been finished successfully\n"
     ]
    }
   ],
   "source": [
    "#while loop with 'else'\n",
    "count = 19\n",
    "\n",
    "while(count <=20):\n",
    "    count += 2\n",
    "    print(\"great job\")\n",
    "    \n",
    "else:\n",
    "    print(\"loop has been finished successfully\")"
   ]
  },
  {
   "cell_type": "markdown",
   "id": "85e155b4-aeac-4fa8-972c-dbb5bb390fdd",
   "metadata": {},
   "source": [
    "2.For Loop\n",
    "\n",
    "The for loop in Python is used to iterate over a sequence (like a list, tuple, string, or range) and execute a block of code for each element in the sequence."
   ]
  },
  {
   "cell_type": "code",
   "execution_count": 1,
   "id": "711d9152-78f9-4cb2-9d49-182bc3bcb085",
   "metadata": {},
   "outputs": [
    {
     "name": "stdout",
     "output_type": "stream",
     "text": [
      "['apple', 'banana', 'papaya', 'pineapple']\n",
      "['apple', 'banana', 'papaya', 'pineapple']\n",
      "['apple', 'banana', 'papaya', 'pineapple']\n",
      "['apple', 'banana', 'papaya', 'pineapple']\n"
     ]
    }
   ],
   "source": [
    "#for loop \n",
    "fruits = ['apple','banana','papaya','pineapple']\n",
    "for fruit in fruits:\n",
    "    print(fruits)"
   ]
  },
  {
   "cell_type": "code",
   "execution_count": 4,
   "id": "ff117db0-ead4-41f2-8ac2-f117a910382f",
   "metadata": {},
   "outputs": [
    {
     "name": "stdout",
     "output_type": "stream",
     "text": [
      "23.4  111  life  bill  700  "
     ]
    }
   ],
   "source": [
    "l = [23.4, 111, 'life', 'bill', 700]\n",
    "for i in l:\n",
    "    print(i , end =\"  \")"
   ]
  },
  {
   "cell_type": "code",
   "execution_count": 20,
   "id": "8cbc73fe-4852-4a22-81dd-1c432ac7be11",
   "metadata": {},
   "outputs": [
    {
     "name": "stdout",
     "output_type": "stream",
     "text": [
      "23.4\n",
      "111\n",
      "life\n",
      "700\n",
      "check your list\n"
     ]
    }
   ],
   "source": [
    "for i in l:\n",
    "    if i == 'bill':\n",
    "        continue\n",
    "    print(i)\n",
    "else:\n",
    "    print(\"check your list\")"
   ]
  },
  {
   "cell_type": "code",
   "execution_count": null,
   "id": "9caa5fb6-9ad5-482f-9208-01a9bee197e4",
   "metadata": {},
   "outputs": [],
   "source": []
  }
 ],
 "metadata": {
  "kernelspec": {
   "display_name": "Python 3 (ipykernel)",
   "language": "python",
   "name": "python3"
  },
  "language_info": {
   "codemirror_mode": {
    "name": "ipython",
    "version": 3
   },
   "file_extension": ".py",
   "mimetype": "text/x-python",
   "name": "python",
   "nbconvert_exporter": "python",
   "pygments_lexer": "ipython3",
   "version": "3.10.8"
  }
 },
 "nbformat": 4,
 "nbformat_minor": 5
}
